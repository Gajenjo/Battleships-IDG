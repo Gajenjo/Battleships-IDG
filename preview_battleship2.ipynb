{
 "cells": [
  {
   "cell_type": "code",
   "execution_count": 2,
   "metadata": {},
   "outputs": [],
   "source": [
    "import numpy as np"
   ]
  },
  {
   "cell_type": "code",
   "execution_count": 15,
   "metadata": {},
   "outputs": [
    {
     "name": "stdout",
     "output_type": "stream",
     "text": [
      "4\n"
     ]
    },
    {
     "data": {
      "text/plain": [
       "7"
      ]
     },
     "execution_count": 15,
     "metadata": {},
     "output_type": "execute_result"
    }
   ],
   "source": [
    "print(len(barco_2[0]))\n",
    "len(size_until_border[0])"
   ]
  },
  {
   "cell_type": "code",
   "execution_count": 15,
   "metadata": {},
   "outputs": [
    {
     "name": "stdout",
     "output_type": "stream",
     "text": [
      "[[' ' ' ' ' ' ' ' ' ' ' ' ' ' ' ' ' ' ' ']\n",
      " [' ' ' ' 'O' ' ' ' ' ' ' ' ' ' ' ' ' ' ']\n",
      " [' ' ' ' ' ' ' ' ' ' ' ' ' ' 'O' ' ' ' ']\n",
      " [' ' ' ' ' ' 'O' ' ' ' ' ' ' ' ' ' ' ' ']\n",
      " [' ' ' ' ' ' ' ' ' ' ' ' ' ' ' ' ' ' ' ']\n",
      " [' ' ' ' 'O' ' ' ' ' ' ' ' ' ' ' ' ' ' ']\n",
      " [' ' ' ' ' ' ' ' ' ' ' ' ' ' ' ' ' ' ' ']\n",
      " [' ' ' ' ' ' ' ' ' ' ' ' ' ' ' ' ' ' ' ']\n",
      " [' ' ' ' ' ' ' ' ' ' ' ' ' ' ' ' ' ' ' ']\n",
      " [' ' ' ' ' ' ' ' ' ' ' ' ' ' ' ' ' ' ' ']]\n"
     ]
    }
   ],
   "source": [
    "# Iniciamos un tablero de 10 x 10 \n",
    "nboard=10\n",
    "board = np.full((nboard,nboard),\" \")\n",
    "\n",
    "# Señalamos número de barcos en tablero\n",
    "n1 = 4\n",
    "n2 = 3\n",
    "n3 = 2\n",
    "n4 = 1\n",
    "\n",
    "# Inicializamos contador de barcos\n",
    "n_boats1 = 0\n",
    "n_boats2 = 0\n",
    "n_boats3 = 0\n",
    "n_boats4 = 0\n",
    "\n",
    "# Creamos n barcos aleatorios\n",
    "while True:\n",
    "    barco_1 = \"O\"\n",
    "    barco_2_V = np.full((1, 2), \"O\")\n",
    "    barco_2_H = np.full((2, 1), \"O\")\n",
    "    barco_3_V = np.full((1, 3), \"O\")\n",
    "    barco_3_H = np.full((3, 1), \"O\")\n",
    "    barco_4_V = np.full((1, 4), \"O\")\n",
    "    barco_4_H = np.full((4, 1), \"O\")\n",
    "    rng1 = np.random.randint(0, nboard)\n",
    "    rng2 = np.random.randint(0, nboard)\n",
    "    orientation = np.random.randint(1,3)\n",
    "    size_until_border_V = board[rng1:rng1+1, rng2-1:-1]\n",
    "    size_until_border_H = board[rng1-1:-1, rng2:rng2+1]\n",
    "    if orientation == 1:\n",
    "        while (board[rng1,rng2] != \"O\"):\n",
    "            board[rng1,rng2]=barco_1\n",
    "            n_boats1+=1\n",
    "        if n_boats1 == n1:\n",
    "            break\n",
    "        while (board[rng1,rng2] != \"O\") & (len(barco_2_H[0])<=len(size_until_border_H)) & (\"O\" not in size_until_border_H):\n",
    "                board[rng1-1:-1, rng2:rng2+1]= barco_2_H\n",
    "                n_boats2+=1         \n",
    "                \n",
    "        if n_boats2 == n2:\n",
    "            break\n",
    "        while (board[rng1,rng2] != \"O\") & (len(barco_3_H[0])<=len(size_until_border_H)) & (\"O\" not in size_until_border_H):\n",
    "            board[rng1-1:-1, rng2:rng2+1]= barco_3_H\n",
    "            n_boats3+=1\n",
    "            \n",
    "        if n_boats3 == n3:\n",
    "            break\n",
    "        while (board[rng1,rng2] != \"O\") & (len(barco_4_H[0])<=len(size_until_border_H)) & (\"O\" not in size_until_border_H):\n",
    "            board[rng1-1:-1, rng2:rng2+1]= barco_4_H\n",
    "            n_boats4+=1\n",
    "            \n",
    "        if n_boats4 == n4:\n",
    "            break\n",
    "    elif orientation == 2:\n",
    "        while (board[rng1,rng2] != \"O\") & (len(barco_2_V[0])<=len(size_until_border_V)) & (\"O\" not in size_until_border_V):\n",
    "            board[rng1:rng1+1, rng2-1:-1]= barco_2_V\n",
    "            n_boats2+=1\n",
    "            \n",
    "        if n_boats2 == n2:\n",
    "            break\n",
    "        while (board[rng1,rng2] != \"O\") & (len(barco_3_V[0])<=len(size_until_border_V)) & (\"O\" not in size_until_border_V):\n",
    "            board[rng1:rng1+1, rng2-1:-1]= barco_3_V\n",
    "            n_boats3+=1\n",
    "            \n",
    "        if n_boats2 == n2:\n",
    "            break\n",
    "        while (board[rng1,rng2] != \"O\") & (len(barco_4_V[0])<=len(size_until_border_V)) & (\"O\" not in size_until_border_V):\n",
    "            board[rng1:rng1+1, rng2-1:-1]= barco_4_V\n",
    "            n_boats4+=1\n",
    "            \n",
    "        if n_boats2 == n2:\n",
    "            break\n",
    "    # if (n_boats1 == n1)&(n_boats2 == n2)&(n_boats3 == n3)&(n_boats4 == n4):\n",
    "    #     break\n",
    "\n",
    "# Iniciamos función de disparo\n",
    "# while True:\n",
    "#     print(board) # Print chivato para pruebas\n",
    "#     x_cordinate = int(input(\"Inserte coordenada x\"))\n",
    "#     y_cordinate = int(input(\"Inserte coordenada y\"))\n",
    "#     if board[x_cordinate, y_cordinate] == \"O\":\n",
    "#         board[x_cordinate, y_cordinate] = \"X\"\n",
    "#     else:\n",
    "#         board[x_cordinate,y_cordinate] = \"-\"\n",
    "#         print (\"Agua\")\n",
    "#     if (\"O\" in board) == False:\n",
    "#         print(\"¡Felicidades, has ganado!\")\n",
    "#         break 123\n",
    "\n",
    "print(board)"
   ]
  }
 ],
 "metadata": {
  "kernelspec": {
   "display_name": "Python 3",
   "language": "python",
   "name": "python3"
  },
  "language_info": {
   "codemirror_mode": {
    "name": "ipython",
    "version": 3
   },
   "file_extension": ".py",
   "mimetype": "text/x-python",
   "name": "python",
   "nbconvert_exporter": "python",
   "pygments_lexer": "ipython3",
   "version": "3.11.2"
  },
  "orig_nbformat": 4,
  "vscode": {
   "interpreter": {
    "hash": "d55b51e8b4cbb1fae3cd4e7239ed24bd708ff6d4595370a218d4c31d4304f641"
   }
  }
 },
 "nbformat": 4,
 "nbformat_minor": 2
}
