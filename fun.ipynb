{
 "cells": [
  {
   "cell_type": "code",
   "execution_count": 5,
   "metadata": {},
   "outputs": [
    {
     "name": "stdout",
     "output_type": "stream",
     "text": [
      "[[' ' ' ' ' ' ' ' '⛴' ' ' ' ' ' ' ' ' ' ']\n",
      " [' ' ' ' ' ' ' ' ' ' ' ' '⛴' '⛴' '⛴' ' ']\n",
      " [' ' ' ' '⛴' ' ' ' ' ' ' ' ' ' ' ' ' ' ']\n",
      " [' ' ' ' ' ' ' ' ' ' ' ' ' ' ' ' ' ' ' ']\n",
      " ['⛴' ' ' ' ' ' ' ' ' ' ' ' ' ' ' ' ' ' ']\n",
      " ['⛴' '⛴' ' ' '⛴' ' ' ' ' ' ' ' ' '⛴' ' ']\n",
      " ['⛴' '⛴' '⛴' ' ' ' ' ' ' ' ' ' ' ' ' ' ']\n",
      " ['⛴' ' ' '⛴' ' ' ' ' ' ' ' ' '⛴' ' ' ' ']\n",
      " [' ' ' ' '⛴' ' ' ' ' ' ' ' ' '⛴' ' ' ' ']\n",
      " [' ' ' ' ' ' ' ' ' ' ' ' ' ' '⛴' '⛴' ' ']]\n"
     ]
    }
   ],
   "source": [
    "import pickle\n",
    "from board import own_board\n",
    "tablero = own_board()\n",
    "\n",
    "with open (\"tablero\", \"wb\") as f:\n",
    "    pickle.dump(tablero, f)\n",
    "\n",
    "\n",
    "with open (\"tablero\", \"rb\") as f:\n",
    "    pera = pickle.load(f)\n",
    "print(pera)\n"
   ]
  }
 ],
 "metadata": {
  "kernelspec": {
   "display_name": "Python 3",
   "language": "python",
   "name": "python3"
  },
  "language_info": {
   "codemirror_mode": {
    "name": "ipython",
    "version": 3
   },
   "file_extension": ".py",
   "mimetype": "text/x-python",
   "name": "python",
   "nbconvert_exporter": "python",
   "pygments_lexer": "ipython3",
   "version": "3.7.4"
  },
  "orig_nbformat": 4
 },
 "nbformat": 4,
 "nbformat_minor": 2
}
